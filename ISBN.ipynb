{
 "cells": [
  {
   "cell_type": "code",
   "execution_count": 1,
   "metadata": {},
   "outputs": [],
   "source": [
    "import numpy as np\n"
   ]
  },
  {
   "cell_type": "code",
   "execution_count": 2,
   "metadata": {},
   "outputs": [
    {
     "name": "stdout",
     "output_type": "stream",
     "text": [
      "Enter the ISBN you'd like to check, e.g. 354096035X, and press Enter 354096035X\n"
     ]
    }
   ],
   "source": [
    "ISBN_candidate = raw_input(\"Enter the ISBN you'd like to check, e.g. 354096035X, and press Enter \")\n"
   ]
  },
  {
   "cell_type": "code",
   "execution_count": 3,
   "metadata": {},
   "outputs": [
    {
     "name": "stdout",
     "output_type": "stream",
     "text": [
      "you entered: 354096035X\n"
     ]
    }
   ],
   "source": [
    "print \"you entered: \"+ISBN_candidate\n"
   ]
  },
  {
   "cell_type": "code",
   "execution_count": 4,
   "metadata": {},
   "outputs": [],
   "source": [
    "def ISBN_validate(candidate):\n",
    "    if len(candidate)!=10:\n",
    "        return False\n",
    "    if(candidate[-1] == 'X'):\n",
    "        new_candidate=map(int,np.append(list(candidate[:9]),10))\n",
    "       \n",
    "    else:\n",
    "        new_candidate=map(int,list(candidate))\n",
    "       \n",
    "    _sum = sum([(np.sum(new_candidate[i]*(10-i))) for i in range(len(new_candidate))])\n",
    "    if _sum%11==0:\n",
    "        return True\n"
   ]
  },
  {
   "cell_type": "code",
   "execution_count": 5,
   "metadata": {},
   "outputs": [
    {
     "name": "stdout",
     "output_type": "stream",
     "text": [
      "354096035X  is a valid ISBN code\n"
     ]
    }
   ],
   "source": [
    "if ISBN_validate(ISBN_candidate):\n",
    "    print ISBN_candidate,\" is a valid ISBN code\"\n",
    "else:\n",
    "    print ISBN_candidate,\" is not a valid ISBN code\""
   ]
  },
  {
   "cell_type": "code",
   "execution_count": null,
   "metadata": {},
   "outputs": [],
   "source": []
  }
 ],
 "metadata": {
  "kernelspec": {
   "display_name": "Python (MEMDK)",
   "language": "python",
   "name": "memdk_jupyter"
  },
  "language_info": {
   "codemirror_mode": {
    "name": "ipython",
    "version": 2
   },
   "file_extension": ".py",
   "mimetype": "text/x-python",
   "name": "python",
   "nbconvert_exporter": "python",
   "pygments_lexer": "ipython2",
   "version": "2.7.12"
  }
 },
 "nbformat": 4,
 "nbformat_minor": 2
}
